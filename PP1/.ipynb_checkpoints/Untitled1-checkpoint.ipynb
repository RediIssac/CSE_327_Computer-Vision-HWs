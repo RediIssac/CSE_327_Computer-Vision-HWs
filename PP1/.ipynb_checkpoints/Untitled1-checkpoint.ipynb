{
 "cells": [
  {
   "cell_type": "code",
   "execution_count": 3,
   "metadata": {},
   "outputs": [
    {
     "ename": "SyntaxError",
     "evalue": "invalid syntax (<ipython-input-3-60bf20686c8d>, line 5)",
     "output_type": "error",
     "traceback": [
      "\u001b[1;36m  File \u001b[1;32m\"<ipython-input-3-60bf20686c8d>\"\u001b[1;36m, line \u001b[1;32m5\u001b[0m\n\u001b[1;33m    import import-ipynib\u001b[0m\n\u001b[1;37m                ^\u001b[0m\n\u001b[1;31mSyntaxError\u001b[0m\u001b[1;31m:\u001b[0m invalid syntax\n"
     ]
    }
   ],
   "source": [
    "# import packages\n",
    "import sys\n",
    "import cv2\n",
    "import numpy as np\n",
    "import import_ipynib\n",
    "import matplotlib.pyplot as plt\n",
    "\n",
    "from IPython.display import display, Image\n",
    "from mpl_toolkits.mplot3d import Axes3D\n",
    "from matplotlib import cm\n",
    "\n",
    "# function for image thresholding\n",
    "def imThreshold(img, threshold, maxVal):\n",
    "    assert len(img.shape) == 2 # input image has to be gray\n",
    "    \n",
    "    height, width = img.shape\n",
    "    bi_img = np.zeros((height, width), dtype=np.uint8)\n",
    "    for x in xrange(height):\n",
    "        for y in xrange(width):\n",
    "            if img.item(x, y) > threshold:\n",
    "                bi_img.itemset((x, y), maxVal)\n",
    "                \n",
    "    return bi_img"
   ]
  },
  {
   "cell_type": "code",
   "execution_count": null,
   "metadata": {},
   "outputs": [],
   "source": []
  }
 ],
 "metadata": {
  "kernelspec": {
   "display_name": "Python 2",
   "language": "python",
   "name": "python2"
  },
  "language_info": {
   "codemirror_mode": {
    "name": "ipython",
    "version": 2
   },
   "file_extension": ".py",
   "mimetype": "text/x-python",
   "name": "python",
   "nbconvert_exporter": "python",
   "pygments_lexer": "ipython2",
   "version": "2.7.15"
  }
 },
 "nbformat": 4,
 "nbformat_minor": 2
}
