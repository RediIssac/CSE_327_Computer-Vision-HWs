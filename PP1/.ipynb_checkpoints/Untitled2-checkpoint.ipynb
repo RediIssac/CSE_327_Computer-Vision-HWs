{
 "cells": [
  {
   "cell_type": "code",
   "execution_count": 13,
   "metadata": {},
   "outputs": [
    {
     "name": "stdout",
     "output_type": "stream",
     "text": [
      "(9, 10)\n",
      "Usage:\n",
      "                redi\n",
      "                aman\n",
      "      \n",
      "C:\n",
      "redi\n",
      "36\n",
      "0\n",
      "(3, 7)\n"
     ]
    }
   ],
   "source": [
    "i = 9\n",
    "j = 10\n",
    "def swap(a, b):\n",
    "    temp = a\n",
    "    a = b\n",
    "    b = temp\n",
    "    \n",
    "\n",
    "swap(i,j)\n",
    "print(i,j)\n",
    "print \"\"\"Usage:\n",
    "                redi\n",
    "                aman\n",
    "      \"\"\"\n",
    "print 'C:\\nredi'\n",
    "\n",
    "array = [1,2,3,4,5,6,7,8,9]\n",
    "def addArr(List):\n",
    "    sum = 0;\n",
    "    for i in range (0, len(array)-1):\n",
    "        sum += array[i]\n",
    "    return sum\n",
    "\n",
    "print(addArr(array))\n",
    "print sum\n",
    "a = 3\n",
    "b = 7\n",
    "def swap(a, b):\n",
    "    temp = a\n",
    "    a = b\n",
    "    b = temp\n",
    "\n",
    "swap(a, b)\n",
    "\n",
    "print(a, b)\n",
    "\n",
    "class Redi:\n",
    "    name\n",
    "    age\n",
    "    occupation\n",
    "    Redi(self, )"
   ]
  },
  {
   "cell_type": "code",
   "execution_count": 30,
   "metadata": {},
   "outputs": [
    {
     "name": "stdout",
     "output_type": "stream",
     "text": [
      "Subby runs quick\n"
     ]
    }
   ],
   "source": [
    "class Dog:\n",
    "   \n",
    "    def __init__(self, name =\"\", height=0, weight=0):\n",
    "        self.name = name\n",
    "        self.height= height\n",
    "        self.weight= weight\n",
    "        \n",
    "    def run(self):\n",
    "        print(\"{} runs quick\".format(self.name))\n",
    "        \n",
    "def main():\n",
    "    d = Dog(\"Subby\", 3, 40)\n",
    "    d.run()\n",
    "    \n",
    "main()\n",
    "\n",
    "# class Dog:\n",
    "#     def __init__(self, name=\"\", height=0, weight=0):\n",
    " \n",
    "#         self.name = name\n",
    "#         self.height = height\n",
    "#         self.weight = weight\n",
    " \n",
    "#     def run(self):\n",
    "#         print(\"{} the dog runs\".format(self.name))\n",
    " \n",
    "#     def eat(self):\n",
    "#         print(\"{} the dog eats\".format(self.name))\n",
    " \n",
    "#     def bark(self):\n",
    "#         print(\"{} the dog barks\".format(self.name))\n",
    " \n",
    " \n",
    "# def main():\n",
    " \n",
    "#     # Create a new Dog object\n",
    "#     spot = Dog(\"Spot\", 66, 26)\n",
    " \n",
    "#     spot.bark()\n",
    " \n",
    "#     bowser = Dog()\n",
    " \n",
    "# main()\n",
    " "
   ]
  },
  {
   "cell_type": "code",
   "execution_count": 33,
   "metadata": {},
   "outputs": [
    {
     "name": "stdout",
     "output_type": "stream",
     "text": [
      "please enter height3\n",
      "please enter weight2\n",
      "('Height :', 3)\n",
      "('Width :', 4)\n"
     ]
    },
    {
     "ename": "AttributeError",
     "evalue": "Square instance has no attribute '_Square__weight'",
     "output_type": "error",
     "traceback": [
      "\u001b[1;31m\u001b[0m",
      "\u001b[1;31mAttributeError\u001b[0mTraceback (most recent call last)",
      "\u001b[1;32m<ipython-input-33-255221d67ba7>\u001b[0m in \u001b[0;36m<module>\u001b[1;34m()\u001b[0m\n\u001b[0;32m     33\u001b[0m \u001b[1;31m#     s.setWeight(0)\u001b[0m\u001b[1;33m\u001b[0m\u001b[1;33m\u001b[0m\u001b[0m\n\u001b[0;32m     34\u001b[0m \u001b[1;33m\u001b[0m\u001b[0m\n\u001b[1;32m---> 35\u001b[1;33m \u001b[0mmain\u001b[0m\u001b[1;33m(\u001b[0m\u001b[1;33m)\u001b[0m\u001b[1;33m\u001b[0m\u001b[0m\n\u001b[0m\u001b[0;32m     36\u001b[0m \u001b[1;33m\u001b[0m\u001b[0m\n",
      "\u001b[1;32m<ipython-input-33-255221d67ba7>\u001b[0m in \u001b[0;36mmain\u001b[1;34m()\u001b[0m\n\u001b[0;32m     27\u001b[0m     \u001b[1;32mprint\u001b[0m\u001b[1;33m(\u001b[0m\u001b[1;34m\"Width :\"\u001b[0m\u001b[1;33m,\u001b[0m \u001b[0ms\u001b[0m\u001b[1;33m.\u001b[0m\u001b[0mweight\u001b[0m\u001b[1;33m)\u001b[0m\u001b[1;33m\u001b[0m\u001b[0m\n\u001b[0;32m     28\u001b[0m \u001b[1;33m\u001b[0m\u001b[0m\n\u001b[1;32m---> 29\u001b[1;33m     \u001b[1;32mprint\u001b[0m\u001b[1;33m(\u001b[0m\u001b[1;34m\"The Area is :\"\u001b[0m\u001b[1;33m,\u001b[0m \u001b[0ms\u001b[0m\u001b[1;33m.\u001b[0m\u001b[0mgetArea\u001b[0m\u001b[1;33m(\u001b[0m\u001b[1;33m)\u001b[0m\u001b[1;33m)\u001b[0m\u001b[1;33m\u001b[0m\u001b[0m\n\u001b[0m\u001b[0;32m     30\u001b[0m \u001b[1;33m\u001b[0m\u001b[0m\n\u001b[0;32m     31\u001b[0m \u001b[1;33m\u001b[0m\u001b[0m\n",
      "\u001b[1;32m<ipython-input-33-255221d67ba7>\u001b[0m in \u001b[0;36mgetArea\u001b[1;34m(self)\u001b[0m\n\u001b[0;32m     16\u001b[0m             \u001b[0mself\u001b[0m\u001b[1;33m.\u001b[0m\u001b[0m__weight\u001b[0m \u001b[1;33m=\u001b[0m \u001b[0mvalue\u001b[0m\u001b[1;33m\u001b[0m\u001b[0m\n\u001b[0;32m     17\u001b[0m     \u001b[1;32mdef\u001b[0m \u001b[0mgetArea\u001b[0m\u001b[1;33m(\u001b[0m\u001b[0mself\u001b[0m\u001b[1;33m)\u001b[0m\u001b[1;33m:\u001b[0m\u001b[1;33m\u001b[0m\u001b[0m\n\u001b[1;32m---> 18\u001b[1;33m         \u001b[1;32mreturn\u001b[0m \u001b[0mint\u001b[0m\u001b[1;33m(\u001b[0m\u001b[0mself\u001b[0m\u001b[1;33m.\u001b[0m\u001b[0m__weight\u001b[0m\u001b[1;33m)\u001b[0m \u001b[1;33m*\u001b[0m \u001b[0mint\u001b[0m\u001b[1;33m(\u001b[0m\u001b[0mself\u001b[0m\u001b[1;33m.\u001b[0m\u001b[0m__height\u001b[0m\u001b[1;33m)\u001b[0m\u001b[1;33m\u001b[0m\u001b[0m\n\u001b[0m\u001b[0;32m     19\u001b[0m \u001b[1;32mdef\u001b[0m \u001b[0mmain\u001b[0m\u001b[1;33m(\u001b[0m\u001b[1;33m)\u001b[0m\u001b[1;33m:\u001b[0m\u001b[1;33m\u001b[0m\u001b[0m\n\u001b[0;32m     20\u001b[0m     \u001b[0ms\u001b[0m \u001b[1;33m=\u001b[0m \u001b[0mSquare\u001b[0m\u001b[1;33m(\u001b[0m\u001b[1;36m3\u001b[0m\u001b[1;33m,\u001b[0m\u001b[1;36m4\u001b[0m\u001b[1;33m)\u001b[0m\u001b[1;33m\u001b[0m\u001b[0m\n",
      "\u001b[1;31mAttributeError\u001b[0m: Square instance has no attribute '_Square__weight'"
     ]
    }
   ],
   "source": [
    "class Square:\n",
    "    def __init__(self, height=\"0\", weight=\"0\"):\n",
    "        self.height = height\n",
    "        self.weight = weight\n",
    "        \n",
    "    def getHeight(self):\n",
    "        return __height\n",
    "    def getWeight(self):\n",
    "        return __weight\n",
    "    def setHeight(self, value):\n",
    "        if value.isdigit():\n",
    "            self.__height = value\n",
    "            \n",
    "    def setWeight(self, value):\n",
    "        if(value.isdigit()):\n",
    "            self.__weight = value\n",
    "    def getArea(self):\n",
    "        return int(self.__weight) * int(self.__height)\n",
    "def main():\n",
    "    s = Square(3,4)\n",
    "    height = input(\"please enter height\")\n",
    "    weight = input(\"please enter weight\")\n",
    "    \n",
    "    s.setHeight = height\n",
    "    s.setWeight = weight\n",
    "    print(\"Height :\", s.height)\n",
    "    print(\"Width :\", s.weight)\n",
    " \n",
    "    print(\"The Area is :\", s.getArea())\n",
    " \n",
    "\n",
    "#     s.setHeight(7)\n",
    "#     s.setWeight(0)\n",
    "    \n",
    "main()\n",
    "    "
   ]
  },
  {
   "cell_type": "markdown",
   "metadata": {},
   "source": [
    "## "
   ]
  },
  {
   "cell_type": "code",
   "execution_count": 34,
   "metadata": {},
   "outputs": [
    {
     "name": "stdout",
     "output_type": "stream",
     "text": [
      "Enter height : 3\n",
      "Enter width : 4\n",
      "('Height :', 3)\n",
      "('Width :', 4)\n"
     ]
    },
    {
     "ename": "AttributeError",
     "evalue": "Square instance has no attribute '_Square__width'",
     "output_type": "error",
     "traceback": [
      "\u001b[1;31m\u001b[0m",
      "\u001b[1;31mAttributeError\u001b[0mTraceback (most recent call last)",
      "\u001b[1;32m<ipython-input-34-eb8aedf9c4af>\u001b[0m in \u001b[0;36m<module>\u001b[1;34m()\u001b[0m\n\u001b[0;32m     57\u001b[0m \u001b[1;33m\u001b[0m\u001b[0m\n\u001b[0;32m     58\u001b[0m \u001b[1;33m\u001b[0m\u001b[0m\n\u001b[1;32m---> 59\u001b[1;33m \u001b[0mmain\u001b[0m\u001b[1;33m(\u001b[0m\u001b[1;33m)\u001b[0m\u001b[1;33m\u001b[0m\u001b[0m\n\u001b[0m",
      "\u001b[1;32m<ipython-input-34-eb8aedf9c4af>\u001b[0m in \u001b[0;36mmain\u001b[1;34m()\u001b[0m\n\u001b[0;32m     54\u001b[0m     \u001b[1;32mprint\u001b[0m\u001b[1;33m(\u001b[0m\u001b[1;34m\"Width :\"\u001b[0m\u001b[1;33m,\u001b[0m \u001b[0maSquare\u001b[0m\u001b[1;33m.\u001b[0m\u001b[0mwidth\u001b[0m\u001b[1;33m)\u001b[0m\u001b[1;33m\u001b[0m\u001b[0m\n\u001b[0;32m     55\u001b[0m \u001b[1;33m\u001b[0m\u001b[0m\n\u001b[1;32m---> 56\u001b[1;33m     \u001b[1;32mprint\u001b[0m\u001b[1;33m(\u001b[0m\u001b[1;34m\"The Area is :\"\u001b[0m\u001b[1;33m,\u001b[0m \u001b[0maSquare\u001b[0m\u001b[1;33m.\u001b[0m\u001b[0mgetArea\u001b[0m\u001b[1;33m(\u001b[0m\u001b[1;33m)\u001b[0m\u001b[1;33m)\u001b[0m\u001b[1;33m\u001b[0m\u001b[0m\n\u001b[0m\u001b[0;32m     57\u001b[0m \u001b[1;33m\u001b[0m\u001b[0m\n\u001b[0;32m     58\u001b[0m \u001b[1;33m\u001b[0m\u001b[0m\n",
      "\u001b[1;32m<ipython-input-34-eb8aedf9c4af>\u001b[0m in \u001b[0;36mgetArea\u001b[1;34m(self)\u001b[0m\n\u001b[0;32m     39\u001b[0m \u001b[1;33m\u001b[0m\u001b[0m\n\u001b[0;32m     40\u001b[0m     \u001b[1;32mdef\u001b[0m \u001b[0mgetArea\u001b[0m\u001b[1;33m(\u001b[0m\u001b[0mself\u001b[0m\u001b[1;33m)\u001b[0m\u001b[1;33m:\u001b[0m\u001b[1;33m\u001b[0m\u001b[0m\n\u001b[1;32m---> 41\u001b[1;33m         \u001b[1;32mreturn\u001b[0m \u001b[0mint\u001b[0m\u001b[1;33m(\u001b[0m\u001b[0mself\u001b[0m\u001b[1;33m.\u001b[0m\u001b[0m__width\u001b[0m\u001b[1;33m)\u001b[0m \u001b[1;33m*\u001b[0m \u001b[0mint\u001b[0m\u001b[1;33m(\u001b[0m\u001b[0mself\u001b[0m\u001b[1;33m.\u001b[0m\u001b[0m__height\u001b[0m\u001b[1;33m)\u001b[0m\u001b[1;33m\u001b[0m\u001b[0m\n\u001b[0m\u001b[0;32m     42\u001b[0m \u001b[1;33m\u001b[0m\u001b[0m\n\u001b[0;32m     43\u001b[0m \u001b[1;33m\u001b[0m\u001b[0m\n",
      "\u001b[1;31mAttributeError\u001b[0m: Square instance has no attribute '_Square__width'"
     ]
    }
   ],
   "source": [
    "class Square:\n",
    "    def __init__(self, height=\"0\", width=\"0\"):\n",
    "        self.height = height\n",
    "        self.width = width\n",
    " \n",
    "    # This is the getter\n",
    "    @property\n",
    "    def height(self):\n",
    "        print(\"Retrieving the height\")\n",
    " \n",
    "        # Put a __ before this private field\n",
    "        return self.__height\n",
    " \n",
    "    # This is the setter\n",
    "    @height.setter\n",
    "    def height(self, value):\n",
    " \n",
    "        # We protect the height from receiving a bad value\n",
    "        if value.isdigit():\n",
    " \n",
    "            # Put a __ before this private field\n",
    "            self.__height = value\n",
    "        else:\n",
    "            print(\"Please only enter numbers for height\")\n",
    " \n",
    "    # This is the getter\n",
    "    @property\n",
    "    def width(self):\n",
    "        print(\"Retrieving the width\")\n",
    "        return self.__width\n",
    " \n",
    "    # This is the setter\n",
    "    @width.setter\n",
    "    def width(self, value):\n",
    "        if value.isdigit():\n",
    "            self.__width = value\n",
    "        else:\n",
    "            print(\"Please only enter numbers for width\")\n",
    " \n",
    "    def getArea(self):\n",
    "        return int(self.__width) * int(self.__height)\n",
    " \n",
    " \n",
    "def main():\n",
    "    aSquare = Square()\n",
    " \n",
    "    height = input(\"Enter height : \")\n",
    "    width = input(\"Enter width : \")\n",
    " \n",
    "    aSquare.height = height\n",
    "    aSquare.width = width\n",
    " \n",
    "    print(\"Height :\", aSquare.height)\n",
    "    print(\"Width :\", aSquare.width)\n",
    " \n",
    "    print(\"The Area is :\", aSquare.getArea())\n",
    " \n",
    " \n",
    "main()"
   ]
  },
  {
   "cell_type": "code",
   "execution_count": 43,
   "metadata": {},
   "outputs": [
    {
     "ename": "SyntaxError",
     "evalue": "invalid syntax (<ipython-input-43-cbe7385e1d45>, line 10)",
     "output_type": "error",
     "traceback": [
      "\u001b[1;36m  File \u001b[1;32m\"<ipython-input-43-cbe7385e1d45>\"\u001b[1;36m, line \u001b[1;32m10\u001b[0m\n\u001b[1;33m    def main:\u001b[0m\n\u001b[1;37m            ^\u001b[0m\n\u001b[1;31mSyntaxError\u001b[0m\u001b[1;31m:\u001b[0m invalid syntax\n"
     ]
    }
   ],
   "source": [
    "def reverse(toBeReversed):\n",
    "   \n",
    "    toBeReveresed = LongString.split()\n",
    "    lis=[]\n",
    "    a = LongString.split()\n",
    "    for word in a:\n",
    "        lis.insert(0,word)\n",
    "    return \" \".join(result)\n",
    "\n",
    "def main():\n",
    "    LongString = input(\"enter a long string\")\n",
    "    reverse(LongString)\n",
    "\n",
    "main()    "
   ]
  },
  {
   "cell_type": "code",
   "execution_count": null,
   "metadata": {},
   "outputs": [],
   "source": []
  }
 ],
 "metadata": {
  "kernelspec": {
   "display_name": "Python 2",
   "language": "python",
   "name": "python2"
  },
  "language_info": {
   "codemirror_mode": {
    "name": "ipython",
    "version": 2
   },
   "file_extension": ".py",
   "mimetype": "text/x-python",
   "name": "python",
   "nbconvert_exporter": "python",
   "pygments_lexer": "ipython2",
   "version": "2.7.15"
  }
 },
 "nbformat": 4,
 "nbformat_minor": 2
}
